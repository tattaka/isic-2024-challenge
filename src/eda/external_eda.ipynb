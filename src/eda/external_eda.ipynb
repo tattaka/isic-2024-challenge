{
 "cells": [
  {
   "cell_type": "code",
   "execution_count": 1,
   "metadata": {},
   "outputs": [
    {
     "name": "stderr",
     "output_type": "stream",
     "text": [
      "/tmp/ipykernel_1910570/1207348737.py:12: DtypeWarning: Columns (51,52) have mixed types. Specify dtype option on import or set low_memory=False.\n",
      "  isic2024_df = pd.read_csv(\"../../input/isic-2024-challenge/train-metadata.csv\")\n"
     ]
    }
   ],
   "source": [
    "import pandas as pd\n",
    "\n",
    "isic2018_df = pd.read_csv(\"../../input/isic-2018-jpg-256x256-resized/train-metadata.csv\")\n",
    "isic2018_df[\"data_source\"] = \"isic-2018-jpg-256x256-resized\"\n",
    "# isic2018_df = isic2018_df[isic2018_df.target == 1].reset_index(drop=True)\n",
    "isic2019_df = pd.read_csv(\"../../input/isic-2019-jpg-256x256-resized/train-metadata.csv\")\n",
    "isic2019_df[\"data_source\"] = \"isic-2019-jpg-256x256-resized\"\n",
    "# isic2019_df = isic2019_df[isic2019_df.target == 1].reset_index(drop=True)\n",
    "isic2020_df = pd.read_csv(\"../../input/isic-2020-jpg-256x256-resized/train-metadata.csv\")\n",
    "isic2020_df[\"data_source\"] = \"isic-2020-jpg-256x256-resized\"\n",
    "# isic2020_df = isic2020_df[isic2020_df.target == 1].reset_index(drop=True)\n",
    "isic2024_df = pd.read_csv(\"../../input/isic-2024-challenge/train-metadata.csv\")"
   ]
  },
  {
   "cell_type": "code",
   "execution_count": 3,
   "metadata": {},
   "outputs": [
    {
     "data": {
      "text/plain": [
       "(8982, 785)"
      ]
     },
     "execution_count": 3,
     "metadata": {},
     "output_type": "execute_result"
    }
   ],
   "source": [
    "len(isic2018_df), len(isic2018_df[isic2018_df[\"target\"] == 1])"
   ]
  },
  {
   "cell_type": "code",
   "execution_count": 4,
   "metadata": {},
   "outputs": [
    {
     "data": {
      "text/plain": [
       "(25331, 4522)"
      ]
     },
     "execution_count": 4,
     "metadata": {},
     "output_type": "execute_result"
    }
   ],
   "source": [
    "len(isic2019_df), len(isic2019_df[isic2019_df[\"target\"] == 1])"
   ]
  },
  {
   "cell_type": "code",
   "execution_count": 5,
   "metadata": {},
   "outputs": [
    {
     "data": {
      "text/plain": [
       "(33126, 584)"
      ]
     },
     "execution_count": 5,
     "metadata": {},
     "output_type": "execute_result"
    }
   ],
   "source": [
    "len(isic2020_df), len(isic2020_df[isic2020_df[\"target\"] == 1])"
   ]
  },
  {
   "cell_type": "code",
   "execution_count": 6,
   "metadata": {},
   "outputs": [
    {
     "data": {
      "text/plain": [
       "(401059, 393)"
      ]
     },
     "execution_count": 6,
     "metadata": {},
     "output_type": "execute_result"
    }
   ],
   "source": [
    "len(isic2024_df), len(isic2024_df[isic2024_df[\"target\"] == 1])"
   ]
  },
  {
   "cell_type": "code",
   "execution_count": 8,
   "metadata": {},
   "outputs": [
    {
     "data": {
      "text/html": [
       "<div>\n",
       "<style scoped>\n",
       "    .dataframe tbody tr th:only-of-type {\n",
       "        vertical-align: middle;\n",
       "    }\n",
       "\n",
       "    .dataframe tbody tr th {\n",
       "        vertical-align: top;\n",
       "    }\n",
       "\n",
       "    .dataframe thead th {\n",
       "        text-align: right;\n",
       "    }\n",
       "</style>\n",
       "<table border=\"1\" class=\"dataframe\">\n",
       "  <thead>\n",
       "    <tr style=\"text-align: right;\">\n",
       "      <th></th>\n",
       "      <th>Unnamed: 0</th>\n",
       "      <th>isic_id</th>\n",
       "      <th>patient_id</th>\n",
       "      <th>target</th>\n",
       "      <th>data_source</th>\n",
       "    </tr>\n",
       "  </thead>\n",
       "  <tbody>\n",
       "    <tr>\n",
       "      <th>0</th>\n",
       "      <td>0</td>\n",
       "      <td>ISIC_0028498</td>\n",
       "      <td>HAM_0000000</td>\n",
       "      <td>0.0</td>\n",
       "      <td>isic-2018-jpg-256x256-resized</td>\n",
       "    </tr>\n",
       "    <tr>\n",
       "      <th>1</th>\n",
       "      <td>1</td>\n",
       "      <td>ISIC_0027859</td>\n",
       "      <td>HAM_0000001</td>\n",
       "      <td>0.0</td>\n",
       "      <td>isic-2018-jpg-256x256-resized</td>\n",
       "    </tr>\n",
       "    <tr>\n",
       "      <th>2</th>\n",
       "      <td>2</td>\n",
       "      <td>ISIC_0034246</td>\n",
       "      <td>HAM_0000002</td>\n",
       "      <td>1.0</td>\n",
       "      <td>isic-2018-jpg-256x256-resized</td>\n",
       "    </tr>\n",
       "    <tr>\n",
       "      <th>3</th>\n",
       "      <td>3</td>\n",
       "      <td>ISIC_0027886</td>\n",
       "      <td>HAM_0000003</td>\n",
       "      <td>0.0</td>\n",
       "      <td>isic-2018-jpg-256x256-resized</td>\n",
       "    </tr>\n",
       "    <tr>\n",
       "      <th>4</th>\n",
       "      <td>4</td>\n",
       "      <td>ISIC_0024645</td>\n",
       "      <td>HAM_0000004</td>\n",
       "      <td>0.0</td>\n",
       "      <td>isic-2018-jpg-256x256-resized</td>\n",
       "    </tr>\n",
       "    <tr>\n",
       "      <th>...</th>\n",
       "      <td>...</td>\n",
       "      <td>...</td>\n",
       "      <td>...</td>\n",
       "      <td>...</td>\n",
       "      <td>...</td>\n",
       "    </tr>\n",
       "    <tr>\n",
       "      <th>67434</th>\n",
       "      <td>33121</td>\n",
       "      <td>ISIC_9999134</td>\n",
       "      <td>IP_6526534</td>\n",
       "      <td>0.0</td>\n",
       "      <td>isic-2020-jpg-256x256-resized</td>\n",
       "    </tr>\n",
       "    <tr>\n",
       "      <th>67435</th>\n",
       "      <td>33122</td>\n",
       "      <td>ISIC_9999320</td>\n",
       "      <td>IP_3650745</td>\n",
       "      <td>0.0</td>\n",
       "      <td>isic-2020-jpg-256x256-resized</td>\n",
       "    </tr>\n",
       "    <tr>\n",
       "      <th>67436</th>\n",
       "      <td>33123</td>\n",
       "      <td>ISIC_9999515</td>\n",
       "      <td>IP_2026598</td>\n",
       "      <td>0.0</td>\n",
       "      <td>isic-2020-jpg-256x256-resized</td>\n",
       "    </tr>\n",
       "    <tr>\n",
       "      <th>67437</th>\n",
       "      <td>33124</td>\n",
       "      <td>ISIC_9999666</td>\n",
       "      <td>IP_7702038</td>\n",
       "      <td>0.0</td>\n",
       "      <td>isic-2020-jpg-256x256-resized</td>\n",
       "    </tr>\n",
       "    <tr>\n",
       "      <th>67438</th>\n",
       "      <td>33125</td>\n",
       "      <td>ISIC_9999806</td>\n",
       "      <td>IP_0046310</td>\n",
       "      <td>0.0</td>\n",
       "      <td>isic-2020-jpg-256x256-resized</td>\n",
       "    </tr>\n",
       "  </tbody>\n",
       "</table>\n",
       "<p>67439 rows × 5 columns</p>\n",
       "</div>"
      ],
      "text/plain": [
       "       Unnamed: 0       isic_id   patient_id  target  \\\n",
       "0               0  ISIC_0028498  HAM_0000000     0.0   \n",
       "1               1  ISIC_0027859  HAM_0000001     0.0   \n",
       "2               2  ISIC_0034246  HAM_0000002     1.0   \n",
       "3               3  ISIC_0027886  HAM_0000003     0.0   \n",
       "4               4  ISIC_0024645  HAM_0000004     0.0   \n",
       "...           ...           ...          ...     ...   \n",
       "67434       33121  ISIC_9999134   IP_6526534     0.0   \n",
       "67435       33122  ISIC_9999320   IP_3650745     0.0   \n",
       "67436       33123  ISIC_9999515   IP_2026598     0.0   \n",
       "67437       33124  ISIC_9999666   IP_7702038     0.0   \n",
       "67438       33125  ISIC_9999806   IP_0046310     0.0   \n",
       "\n",
       "                         data_source  \n",
       "0      isic-2018-jpg-256x256-resized  \n",
       "1      isic-2018-jpg-256x256-resized  \n",
       "2      isic-2018-jpg-256x256-resized  \n",
       "3      isic-2018-jpg-256x256-resized  \n",
       "4      isic-2018-jpg-256x256-resized  \n",
       "...                              ...  \n",
       "67434  isic-2020-jpg-256x256-resized  \n",
       "67435  isic-2020-jpg-256x256-resized  \n",
       "67436  isic-2020-jpg-256x256-resized  \n",
       "67437  isic-2020-jpg-256x256-resized  \n",
       "67438  isic-2020-jpg-256x256-resized  \n",
       "\n",
       "[67439 rows x 5 columns]"
      ]
     },
     "execution_count": 8,
     "metadata": {},
     "output_type": "execute_result"
    }
   ],
   "source": [
    "external_train_meta_df = pd.concat([isic2018_df, isic2019_df, isic2020_df]).reset_index(drop=True)\n",
    "external_train_meta_df"
   ]
  },
  {
   "cell_type": "code",
   "execution_count": 11,
   "metadata": {},
   "outputs": [
    {
     "data": {
      "text/html": [
       "<div>\n",
       "<style scoped>\n",
       "    .dataframe tbody tr th:only-of-type {\n",
       "        vertical-align: middle;\n",
       "    }\n",
       "\n",
       "    .dataframe tbody tr th {\n",
       "        vertical-align: top;\n",
       "    }\n",
       "\n",
       "    .dataframe thead th {\n",
       "        text-align: right;\n",
       "    }\n",
       "</style>\n",
       "<table border=\"1\" class=\"dataframe\">\n",
       "  <thead>\n",
       "    <tr style=\"text-align: right;\">\n",
       "      <th></th>\n",
       "      <th>Unnamed: 0</th>\n",
       "      <th>isic_id</th>\n",
       "      <th>patient_id</th>\n",
       "      <th>target</th>\n",
       "      <th>data_source</th>\n",
       "    </tr>\n",
       "  </thead>\n",
       "  <tbody>\n",
       "    <tr>\n",
       "      <th>0</th>\n",
       "      <td>0</td>\n",
       "      <td>ISIC_2637011</td>\n",
       "      <td>IP_7279968</td>\n",
       "      <td>0</td>\n",
       "      <td>isic-2020-jpg-256x256-resized</td>\n",
       "    </tr>\n",
       "    <tr>\n",
       "      <th>1</th>\n",
       "      <td>1</td>\n",
       "      <td>ISIC_0015719</td>\n",
       "      <td>IP_3075186</td>\n",
       "      <td>0</td>\n",
       "      <td>isic-2020-jpg-256x256-resized</td>\n",
       "    </tr>\n",
       "    <tr>\n",
       "      <th>2</th>\n",
       "      <td>2</td>\n",
       "      <td>ISIC_0052212</td>\n",
       "      <td>IP_2842074</td>\n",
       "      <td>0</td>\n",
       "      <td>isic-2020-jpg-256x256-resized</td>\n",
       "    </tr>\n",
       "    <tr>\n",
       "      <th>3</th>\n",
       "      <td>3</td>\n",
       "      <td>ISIC_0068279</td>\n",
       "      <td>IP_6890425</td>\n",
       "      <td>0</td>\n",
       "      <td>isic-2020-jpg-256x256-resized</td>\n",
       "    </tr>\n",
       "    <tr>\n",
       "      <th>4</th>\n",
       "      <td>4</td>\n",
       "      <td>ISIC_0074268</td>\n",
       "      <td>IP_8723313</td>\n",
       "      <td>0</td>\n",
       "      <td>isic-2020-jpg-256x256-resized</td>\n",
       "    </tr>\n",
       "    <tr>\n",
       "      <th>...</th>\n",
       "      <td>...</td>\n",
       "      <td>...</td>\n",
       "      <td>...</td>\n",
       "      <td>...</td>\n",
       "      <td>...</td>\n",
       "    </tr>\n",
       "    <tr>\n",
       "      <th>33121</th>\n",
       "      <td>33121</td>\n",
       "      <td>ISIC_9999134</td>\n",
       "      <td>IP_6526534</td>\n",
       "      <td>0</td>\n",
       "      <td>isic-2020-jpg-256x256-resized</td>\n",
       "    </tr>\n",
       "    <tr>\n",
       "      <th>33122</th>\n",
       "      <td>33122</td>\n",
       "      <td>ISIC_9999320</td>\n",
       "      <td>IP_3650745</td>\n",
       "      <td>0</td>\n",
       "      <td>isic-2020-jpg-256x256-resized</td>\n",
       "    </tr>\n",
       "    <tr>\n",
       "      <th>33123</th>\n",
       "      <td>33123</td>\n",
       "      <td>ISIC_9999515</td>\n",
       "      <td>IP_2026598</td>\n",
       "      <td>0</td>\n",
       "      <td>isic-2020-jpg-256x256-resized</td>\n",
       "    </tr>\n",
       "    <tr>\n",
       "      <th>33124</th>\n",
       "      <td>33124</td>\n",
       "      <td>ISIC_9999666</td>\n",
       "      <td>IP_7702038</td>\n",
       "      <td>0</td>\n",
       "      <td>isic-2020-jpg-256x256-resized</td>\n",
       "    </tr>\n",
       "    <tr>\n",
       "      <th>33125</th>\n",
       "      <td>33125</td>\n",
       "      <td>ISIC_9999806</td>\n",
       "      <td>IP_0046310</td>\n",
       "      <td>0</td>\n",
       "      <td>isic-2020-jpg-256x256-resized</td>\n",
       "    </tr>\n",
       "  </tbody>\n",
       "</table>\n",
       "<p>33126 rows × 5 columns</p>\n",
       "</div>"
      ],
      "text/plain": [
       "       Unnamed: 0       isic_id  patient_id  target  \\\n",
       "0               0  ISIC_2637011  IP_7279968       0   \n",
       "1               1  ISIC_0015719  IP_3075186       0   \n",
       "2               2  ISIC_0052212  IP_2842074       0   \n",
       "3               3  ISIC_0068279  IP_6890425       0   \n",
       "4               4  ISIC_0074268  IP_8723313       0   \n",
       "...           ...           ...         ...     ...   \n",
       "33121       33121  ISIC_9999134  IP_6526534       0   \n",
       "33122       33122  ISIC_9999320  IP_3650745       0   \n",
       "33123       33123  ISIC_9999515  IP_2026598       0   \n",
       "33124       33124  ISIC_9999666  IP_7702038       0   \n",
       "33125       33125  ISIC_9999806  IP_0046310       0   \n",
       "\n",
       "                         data_source  \n",
       "0      isic-2020-jpg-256x256-resized  \n",
       "1      isic-2020-jpg-256x256-resized  \n",
       "2      isic-2020-jpg-256x256-resized  \n",
       "3      isic-2020-jpg-256x256-resized  \n",
       "4      isic-2020-jpg-256x256-resized  \n",
       "...                              ...  \n",
       "33121  isic-2020-jpg-256x256-resized  \n",
       "33122  isic-2020-jpg-256x256-resized  \n",
       "33123  isic-2020-jpg-256x256-resized  \n",
       "33124  isic-2020-jpg-256x256-resized  \n",
       "33125  isic-2020-jpg-256x256-resized  \n",
       "\n",
       "[33126 rows x 5 columns]"
      ]
     },
     "execution_count": 11,
     "metadata": {},
     "output_type": "execute_result"
    }
   ],
   "source": [
    "isic2020_df"
   ]
  }
 ],
 "metadata": {
  "kernelspec": {
   "display_name": "base",
   "language": "python",
   "name": "python3"
  },
  "language_info": {
   "codemirror_mode": {
    "name": "ipython",
    "version": 3
   },
   "file_extension": ".py",
   "mimetype": "text/x-python",
   "name": "python",
   "nbconvert_exporter": "python",
   "pygments_lexer": "ipython3",
   "version": "3.10.13"
  }
 },
 "nbformat": 4,
 "nbformat_minor": 2
}
